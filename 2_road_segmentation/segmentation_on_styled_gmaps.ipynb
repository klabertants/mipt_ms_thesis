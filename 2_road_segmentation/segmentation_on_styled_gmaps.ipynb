{
  "nbformat": 4,
  "nbformat_minor": 0,
  "metadata": {
    "colab": {
      "name": "segmentation_on_styled_gmaps.ipynb",
      "provenance": []
    },
    "kernelspec": {
      "name": "python3",
      "display_name": "Python 3"
    },
    "accelerator": "GPU"
  },
  "cells": [
    {
      "cell_type": "code",
      "metadata": {
        "id": "1IZzobBYlIP8",
        "colab_type": "code",
        "colab": {
          "base_uri": "https://localhost:8080/",
          "height": 445
        },
        "outputId": "8440c14f-ed0e-40a8-ba3a-a1a0593db42c"
      },
      "source": [
        "!pip install segmentation_models"
      ],
      "execution_count": 1,
      "outputs": [
        {
          "output_type": "stream",
          "text": [
            "Collecting segmentation_models\n",
            "  Downloading https://files.pythonhosted.org/packages/da/b9/4a183518c21689a56b834eaaa45cad242d9ec09a4360b5b10139f23c63f4/segmentation_models-1.0.1-py3-none-any.whl\n",
            "Collecting image-classifiers==1.0.0\n",
            "  Downloading https://files.pythonhosted.org/packages/81/98/6f84720e299a4942ab80df5f76ab97b7828b24d1de5e9b2cbbe6073228b7/image_classifiers-1.0.0-py3-none-any.whl\n",
            "Collecting efficientnet==1.0.0\n",
            "  Downloading https://files.pythonhosted.org/packages/97/82/f3ae07316f0461417dc54affab6e86ab188a5a22f33176d35271628b96e0/efficientnet-1.0.0-py3-none-any.whl\n",
            "Requirement already satisfied: keras-applications<=1.0.8,>=1.0.7 in /usr/local/lib/python3.6/dist-packages (from segmentation_models) (1.0.8)\n",
            "Requirement already satisfied: scikit-image in /usr/local/lib/python3.6/dist-packages (from efficientnet==1.0.0->segmentation_models) (0.16.2)\n",
            "Requirement already satisfied: numpy>=1.9.1 in /usr/local/lib/python3.6/dist-packages (from keras-applications<=1.0.8,>=1.0.7->segmentation_models) (1.18.4)\n",
            "Requirement already satisfied: h5py in /usr/local/lib/python3.6/dist-packages (from keras-applications<=1.0.8,>=1.0.7->segmentation_models) (2.10.0)\n",
            "Requirement already satisfied: imageio>=2.3.0 in /usr/local/lib/python3.6/dist-packages (from scikit-image->efficientnet==1.0.0->segmentation_models) (2.4.1)\n",
            "Requirement already satisfied: pillow>=4.3.0 in /usr/local/lib/python3.6/dist-packages (from scikit-image->efficientnet==1.0.0->segmentation_models) (7.0.0)\n",
            "Requirement already satisfied: PyWavelets>=0.4.0 in /usr/local/lib/python3.6/dist-packages (from scikit-image->efficientnet==1.0.0->segmentation_models) (1.1.1)\n",
            "Requirement already satisfied: matplotlib!=3.0.0,>=2.0.0 in /usr/local/lib/python3.6/dist-packages (from scikit-image->efficientnet==1.0.0->segmentation_models) (3.2.1)\n",
            "Requirement already satisfied: networkx>=2.0 in /usr/local/lib/python3.6/dist-packages (from scikit-image->efficientnet==1.0.0->segmentation_models) (2.4)\n",
            "Requirement already satisfied: scipy>=0.19.0 in /usr/local/lib/python3.6/dist-packages (from scikit-image->efficientnet==1.0.0->segmentation_models) (1.4.1)\n",
            "Requirement already satisfied: six in /usr/local/lib/python3.6/dist-packages (from h5py->keras-applications<=1.0.8,>=1.0.7->segmentation_models) (1.12.0)\n",
            "Requirement already satisfied: cycler>=0.10 in /usr/local/lib/python3.6/dist-packages (from matplotlib!=3.0.0,>=2.0.0->scikit-image->efficientnet==1.0.0->segmentation_models) (0.10.0)\n",
            "Requirement already satisfied: kiwisolver>=1.0.1 in /usr/local/lib/python3.6/dist-packages (from matplotlib!=3.0.0,>=2.0.0->scikit-image->efficientnet==1.0.0->segmentation_models) (1.2.0)\n",
            "Requirement already satisfied: python-dateutil>=2.1 in /usr/local/lib/python3.6/dist-packages (from matplotlib!=3.0.0,>=2.0.0->scikit-image->efficientnet==1.0.0->segmentation_models) (2.8.1)\n",
            "Requirement already satisfied: pyparsing!=2.0.4,!=2.1.2,!=2.1.6,>=2.0.1 in /usr/local/lib/python3.6/dist-packages (from matplotlib!=3.0.0,>=2.0.0->scikit-image->efficientnet==1.0.0->segmentation_models) (2.4.7)\n",
            "Requirement already satisfied: decorator>=4.3.0 in /usr/local/lib/python3.6/dist-packages (from networkx>=2.0->scikit-image->efficientnet==1.0.0->segmentation_models) (4.4.2)\n",
            "Installing collected packages: image-classifiers, efficientnet, segmentation-models\n",
            "Successfully installed efficientnet-1.0.0 image-classifiers-1.0.0 segmentation-models-1.0.1\n"
          ],
          "name": "stdout"
        }
      ]
    },
    {
      "cell_type": "code",
      "metadata": {
        "id": "ko5IaaUDlZLp",
        "colab_type": "code",
        "colab": {
          "base_uri": "https://localhost:8080/",
          "height": 51
        },
        "outputId": "b61dee4b-963e-4bdc-8a95-3e24ba863a5e"
      },
      "source": [
        "import os\n",
        "import cv2\n",
        "import keras\n",
        "import numpy as np\n",
        "import matplotlib.pyplot as plt\n",
        "import albumentations as A\n",
        "import segmentation_models as sm"
      ],
      "execution_count": 1,
      "outputs": [
        {
          "output_type": "stream",
          "text": [
            "Using TensorFlow backend.\n"
          ],
          "name": "stderr"
        },
        {
          "output_type": "stream",
          "text": [
            "Segmentation Models: using `keras` framework.\n"
          ],
          "name": "stdout"
        }
      ]
    },
    {
      "cell_type": "code",
      "metadata": {
        "id": "guupMNTNlfSs",
        "colab_type": "code",
        "colab": {}
      },
      "source": [
        "def round_clip_0_1(x, **kwargs):\n",
        "    return x.round().clip(0, 1)\n",
        "\n",
        "# define heavy augmentations\n",
        "def get_training_augmentation():\n",
        "    train_transform = [\n",
        "\n",
        "        A.HorizontalFlip(p=0.5),\n",
        "\n",
        "        A.ShiftScaleRotate(scale_limit=0.5, rotate_limit=0, shift_limit=0.1, p=1, border_mode=0),\n",
        "\n",
        "        A.PadIfNeeded(min_height=320, min_width=320, always_apply=True, border_mode=0),\n",
        "        A.RandomCrop(height=320, width=320, always_apply=True),\n",
        "\n",
        "        A.IAAAdditiveGaussianNoise(p=0.2),\n",
        "        A.IAAPerspective(p=0.5),\n",
        "\n",
        "        A.OneOf(\n",
        "            [\n",
        "                A.CLAHE(p=1),\n",
        "                A.RandomBrightness(p=1),\n",
        "                A.RandomGamma(p=1),\n",
        "            ],\n",
        "            p=0.9,\n",
        "        ),\n",
        "\n",
        "        A.OneOf(\n",
        "            [\n",
        "                A.IAASharpen(p=1),\n",
        "                A.Blur(blur_limit=3, p=1),\n",
        "                A.MotionBlur(blur_limit=3, p=1),\n",
        "            ],\n",
        "            p=0.9,\n",
        "        ),\n",
        "\n",
        "        A.OneOf(\n",
        "            [\n",
        "                A.RandomContrast(p=1),\n",
        "                A.HueSaturationValue(p=1),\n",
        "            ],\n",
        "            p=0.9,\n",
        "        ),\n",
        "        A.Lambda(mask=round_clip_0_1)\n",
        "    ]\n",
        "    return A.Compose(train_transform)\n",
        "\n",
        "\n",
        "def get_validation_augmentation():\n",
        "    test_transform = [\n",
        "        A.PadIfNeeded(384, 480)\n",
        "    ]\n",
        "    return A.Compose(test_transform)\n",
        "\n",
        "def get_preprocessing(preprocessing_fn):\n",
        "    \n",
        "    _transform = [\n",
        "        A.Lambda(image=preprocessing_fn),\n",
        "    ]\n",
        "    return A.Compose(_transform)"
      ],
      "execution_count": 0,
      "outputs": []
    },
    {
      "cell_type": "code",
      "metadata": {
        "id": "fqT9xZ3Vmk6E",
        "colab_type": "code",
        "colab": {}
      },
      "source": [
        "class Dataset:\n",
        "\n",
        "    CLASSES = ['road', 'void']\n",
        "\n",
        "    def __init__(\n",
        "        self, \n",
        "        images_dir, \n",
        "        masks_dir, \n",
        "        classes=None, \n",
        "        augmentation=None, \n",
        "        preprocessing=None):\n",
        "      self.ids = os.listdir(images_dir)\n",
        "      self.images_fps = [os.path.join(images_dir, image_id) for image_id in self.ids]\n",
        "      self.masks_fps = [os.path.join(masks_dir, image_id) for image_id in self.ids]\n",
        "      \n",
        "      # convert str names to class values on masks\n",
        "      self.class_values = [self.CLASSES.index(cls.lower()) for cls in classes]\n",
        "      \n",
        "      self.augmentation = augmentation\n",
        "      self.preprocessing = preprocessing\n",
        "\n",
        "    def __getitem__(self, i):\n",
        "      \n",
        "      # read data\n",
        "      image = cv2.imread(self.images_fps[i])\n",
        "      image = cv2.cvtColor(image, cv2.COLOR_BGR2RGB)\n",
        "      mask = cv2.imread(self.masks_fps[i], 0)\n",
        "      \n",
        "      # extract certain classes from mask (e.g. cars)\n",
        "      masks = [(np.ceil(mask / 255.0) == v) for v in self.class_values]\n",
        "      mask = np.stack(masks, axis=-1).astype('float')\n",
        "      \n",
        "      # add background if mask is not binary\n",
        "      if mask.shape[-1] != 1:\n",
        "          background = 1 - mask.sum(axis=-1, keepdims=True)\n",
        "          mask = np.concatenate((mask, background), axis=-1)\n",
        "      \n",
        "      # apply augmentations\n",
        "      if self.augmentation:\n",
        "          sample = self.augmentation(image=image, mask=mask)\n",
        "          image, mask = sample['image'], sample['mask']\n",
        "      \n",
        "      # apply preprocessing\n",
        "      if self.preprocessing:\n",
        "          sample = self.preprocessing(image=image, mask=mask)\n",
        "          image, mask = sample['image'], sample['mask']\n",
        "          \n",
        "      return image, mask\n",
        "      \n",
        "    def __len__(self):\n",
        "        return len(self.ids)"
      ],
      "execution_count": 0,
      "outputs": []
    },
    {
      "cell_type": "code",
      "metadata": {
        "id": "Hs9fQwGlngkP",
        "colab_type": "code",
        "colab": {}
      },
      "source": [
        "class Dataloder(keras.utils.Sequence):\n",
        "    def __init__(self, dataset, batch_size=1, shuffle=False):\n",
        "        self.dataset = dataset\n",
        "        self.batch_size = batch_size\n",
        "        self.shuffle = shuffle\n",
        "        self.indexes = np.arange(len(dataset))\n",
        "\n",
        "        self.on_epoch_end()\n",
        "\n",
        "    def __getitem__(self, i):\n",
        "        \n",
        "        # collect batch data\n",
        "        start = i * self.batch_size\n",
        "        stop = (i + 1) * self.batch_size\n",
        "        data = []\n",
        "        for j in range(start, stop):\n",
        "            data.append(self.dataset[j])\n",
        "        \n",
        "        # transpose list of lists\n",
        "        batch = [np.stack(samples, axis=0) for samples in zip(*data)]\n",
        "        \n",
        "        return batch\n",
        "    \n",
        "    def __len__(self):\n",
        "        return len(self.indexes) // self.batch_size\n",
        "    \n",
        "    def on_epoch_end(self):\n",
        "        if self.shuffle:\n",
        "            self.indexes = np.random.permutation(self.indexes)"
      ],
      "execution_count": 0,
      "outputs": []
    },
    {
      "cell_type": "code",
      "metadata": {
        "id": "oQa1Xg64nsLL",
        "colab_type": "code",
        "colab": {}
      },
      "source": [
        "BACKBONE = 'efficientnetb3'\n",
        "BATCH_SIZE = 4\n",
        "CLASSES = ['road']\n",
        "LR = 0.0001\n",
        "EPOCHS = 40\n",
        "ROOT_FOLDER = \"drive/My Drive/MIPT_MS_THESIS/styled_road_seg/\"\n",
        "\n",
        "preprocess_input = sm.get_preprocessing(BACKBONE)"
      ],
      "execution_count": 0,
      "outputs": []
    },
    {
      "cell_type": "code",
      "metadata": {
        "id": "GP2qlYIro2m1",
        "colab_type": "code",
        "colab": {}
      },
      "source": [
        "model = sm.Unet(BACKBONE, classes=1, activation='sigmoid')\n",
        "optim = keras.optimizers.Adam(LR)\n",
        "model.compile(optimizer=optim, loss='binary_crossentropy', metrics=['accuracy'])"
      ],
      "execution_count": 0,
      "outputs": []
    },
    {
      "cell_type": "code",
      "metadata": {
        "id": "O9t6b3-OpEHv",
        "colab_type": "code",
        "colab": {}
      },
      "source": [
        "train_dataset = Dataset(\n",
        "    ROOT_FOLDER + \"train/img/\", \n",
        "    ROOT_FOLDER + \"train/mask/\", \n",
        "    classes=CLASSES, \n",
        "    augmentation=get_training_augmentation(),\n",
        "    preprocessing=get_preprocessing(preprocess_input),\n",
        ")\n",
        "\n",
        "valid_dataset = Dataset(\n",
        "    ROOT_FOLDER + \"val/img/\", \n",
        "    ROOT_FOLDER + \"val/mask/\", \n",
        "    classes=CLASSES, \n",
        "    augmentation=get_validation_augmentation(),\n",
        "    preprocessing=get_preprocessing(preprocess_input),\n",
        ")\n",
        "\n",
        "train_dataloader = Dataloder(train_dataset, batch_size=BATCH_SIZE, shuffle=True)\n",
        "valid_dataloader = Dataloder(valid_dataset, batch_size=1, shuffle=False)\n",
        "\n",
        "callbacks = [\n",
        "    keras.callbacks.ModelCheckpoint('./best_model.h5', save_weights_only=True, save_best_only=True, mode='min'),\n",
        "    keras.callbacks.ReduceLROnPlateau(),\n",
        "]"
      ],
      "execution_count": 0,
      "outputs": []
    },
    {
      "cell_type": "code",
      "metadata": {
        "id": "W4RBEVjOpS6K",
        "colab_type": "code",
        "colab": {
          "base_uri": "https://localhost:8080/",
          "height": 1000
        },
        "outputId": "11c7180d-e4ac-43fd-dbf7-f446997bb88b"
      },
      "source": [
        "history = model.fit_generator(\n",
        "    train_dataloader, \n",
        "    steps_per_epoch=len(train_dataloader), \n",
        "    epochs=EPOCHS, \n",
        "    callbacks=callbacks,\n",
        "    validation_data=valid_dataloader, \n",
        "    validation_steps=len(valid_dataloader),\n",
        ")"
      ],
      "execution_count": 41,
      "outputs": [
        {
          "output_type": "stream",
          "text": [
            "Epoch 1/40\n",
            "25/25 [==============================] - 74s 3s/step - loss: 1.0293 - accuracy: 0.3200 - val_loss: 1.2777 - val_accuracy: 0.1746\n",
            "Epoch 2/40\n",
            "25/25 [==============================] - 11s 447ms/step - loss: 0.6822 - accuracy: 0.7207 - val_loss: 1.6823 - val_accuracy: 0.4323\n",
            "Epoch 3/40\n",
            "25/25 [==============================] - 11s 459ms/step - loss: 0.6172 - accuracy: 0.8073 - val_loss: 0.8260 - val_accuracy: 0.6624\n",
            "Epoch 4/40\n",
            "25/25 [==============================] - 11s 448ms/step - loss: 0.5966 - accuracy: 0.8270 - val_loss: 0.7193 - val_accuracy: 0.7236\n",
            "Epoch 5/40\n",
            "25/25 [==============================] - 11s 454ms/step - loss: 0.5507 - accuracy: 0.8519 - val_loss: 0.6202 - val_accuracy: 0.7837\n",
            "Epoch 6/40\n",
            "25/25 [==============================] - 11s 450ms/step - loss: 0.5235 - accuracy: 0.8581 - val_loss: 0.6346 - val_accuracy: 0.8062\n",
            "Epoch 7/40\n",
            "25/25 [==============================] - 11s 459ms/step - loss: 0.5158 - accuracy: 0.8579 - val_loss: 0.6336 - val_accuracy: 0.7621\n",
            "Epoch 8/40\n",
            "25/25 [==============================] - 11s 460ms/step - loss: 0.4739 - accuracy: 0.8695 - val_loss: 0.6001 - val_accuracy: 0.8057\n",
            "Epoch 9/40\n",
            "25/25 [==============================] - 11s 449ms/step - loss: 0.4642 - accuracy: 0.8641 - val_loss: 0.5323 - val_accuracy: 0.8003\n",
            "Epoch 10/40\n",
            "25/25 [==============================] - 11s 442ms/step - loss: 0.4031 - accuracy: 0.8834 - val_loss: 0.4734 - val_accuracy: 0.8621\n",
            "Epoch 11/40\n",
            "25/25 [==============================] - 11s 449ms/step - loss: 0.4257 - accuracy: 0.8633 - val_loss: 0.4897 - val_accuracy: 0.7914\n",
            "Epoch 12/40\n",
            "25/25 [==============================] - 11s 449ms/step - loss: 0.3670 - accuracy: 0.8827 - val_loss: 0.3897 - val_accuracy: 0.8962\n",
            "Epoch 13/40\n",
            "25/25 [==============================] - 11s 446ms/step - loss: 0.3756 - accuracy: 0.8744 - val_loss: 0.4149 - val_accuracy: 0.8484\n",
            "Epoch 14/40\n",
            "25/25 [==============================] - 11s 445ms/step - loss: 0.3646 - accuracy: 0.8733 - val_loss: 0.3642 - val_accuracy: 0.8634\n",
            "Epoch 15/40\n",
            "25/25 [==============================] - 11s 452ms/step - loss: 0.3428 - accuracy: 0.8813 - val_loss: 0.3991 - val_accuracy: 0.8986\n",
            "Epoch 16/40\n",
            "25/25 [==============================] - 11s 447ms/step - loss: 0.3541 - accuracy: 0.8781 - val_loss: 0.3873 - val_accuracy: 0.9035\n",
            "Epoch 17/40\n",
            "25/25 [==============================] - 11s 452ms/step - loss: 0.3319 - accuracy: 0.8833 - val_loss: 0.3480 - val_accuracy: 0.9007\n",
            "Epoch 18/40\n",
            "25/25 [==============================] - 11s 453ms/step - loss: 0.3302 - accuracy: 0.8838 - val_loss: 0.3330 - val_accuracy: 0.9017\n",
            "Epoch 19/40\n",
            "25/25 [==============================] - 11s 446ms/step - loss: 0.3057 - accuracy: 0.8884 - val_loss: 0.2881 - val_accuracy: 0.9064\n",
            "Epoch 20/40\n",
            "25/25 [==============================] - 11s 444ms/step - loss: 0.3062 - accuracy: 0.8872 - val_loss: 0.2636 - val_accuracy: 0.9090\n",
            "Epoch 21/40\n",
            "25/25 [==============================] - 11s 452ms/step - loss: 0.3131 - accuracy: 0.8855 - val_loss: 0.2819 - val_accuracy: 0.9036\n",
            "Epoch 22/40\n",
            "25/25 [==============================] - 11s 452ms/step - loss: 0.2962 - accuracy: 0.8915 - val_loss: 0.2612 - val_accuracy: 0.9090\n",
            "Epoch 23/40\n",
            "25/25 [==============================] - 11s 455ms/step - loss: 0.2948 - accuracy: 0.8916 - val_loss: 0.2338 - val_accuracy: 0.9112\n",
            "Epoch 24/40\n",
            "25/25 [==============================] - 11s 455ms/step - loss: 0.2831 - accuracy: 0.8929 - val_loss: 0.2289 - val_accuracy: 0.9102\n",
            "Epoch 25/40\n",
            "25/25 [==============================] - 11s 443ms/step - loss: 0.2999 - accuracy: 0.8872 - val_loss: 0.2805 - val_accuracy: 0.9045\n",
            "Epoch 26/40\n",
            "25/25 [==============================] - 11s 455ms/step - loss: 0.2788 - accuracy: 0.8958 - val_loss: 0.2351 - val_accuracy: 0.9113\n",
            "Epoch 27/40\n",
            "25/25 [==============================] - 11s 449ms/step - loss: 0.2999 - accuracy: 0.8899 - val_loss: 0.2394 - val_accuracy: 0.9095\n",
            "Epoch 28/40\n",
            "25/25 [==============================] - 11s 451ms/step - loss: 0.2816 - accuracy: 0.8940 - val_loss: 0.2520 - val_accuracy: 0.9086\n",
            "Epoch 29/40\n",
            "25/25 [==============================] - 11s 447ms/step - loss: 0.2858 - accuracy: 0.8903 - val_loss: 0.2478 - val_accuracy: 0.9085\n",
            "Epoch 30/40\n",
            "25/25 [==============================] - 11s 455ms/step - loss: 0.2721 - accuracy: 0.8972 - val_loss: 0.2333 - val_accuracy: 0.9093\n",
            "Epoch 31/40\n",
            "25/25 [==============================] - 11s 449ms/step - loss: 0.2863 - accuracy: 0.8897 - val_loss: 0.2394 - val_accuracy: 0.9098\n",
            "Epoch 32/40\n",
            "25/25 [==============================] - 11s 451ms/step - loss: 0.2812 - accuracy: 0.8914 - val_loss: 0.2316 - val_accuracy: 0.9093\n",
            "Epoch 33/40\n",
            "25/25 [==============================] - 11s 449ms/step - loss: 0.2557 - accuracy: 0.9033 - val_loss: 0.2142 - val_accuracy: 0.9111\n",
            "Epoch 34/40\n",
            "25/25 [==============================] - 11s 447ms/step - loss: 0.2888 - accuracy: 0.8889 - val_loss: 0.2362 - val_accuracy: 0.9101\n",
            "Epoch 35/40\n",
            "25/25 [==============================] - 11s 451ms/step - loss: 0.2769 - accuracy: 0.8915 - val_loss: 0.2144 - val_accuracy: 0.9110\n",
            "Epoch 36/40\n",
            "25/25 [==============================] - 11s 452ms/step - loss: 0.2918 - accuracy: 0.8844 - val_loss: 0.1907 - val_accuracy: 0.9116\n",
            "Epoch 37/40\n",
            "25/25 [==============================] - 11s 453ms/step - loss: 0.2856 - accuracy: 0.8877 - val_loss: 0.2145 - val_accuracy: 0.9117\n",
            "Epoch 38/40\n",
            "25/25 [==============================] - 11s 451ms/step - loss: 0.2791 - accuracy: 0.8933 - val_loss: 0.2104 - val_accuracy: 0.9118\n",
            "Epoch 39/40\n",
            "25/25 [==============================] - 11s 452ms/step - loss: 0.2800 - accuracy: 0.8874 - val_loss: 0.1979 - val_accuracy: 0.9119\n",
            "Epoch 40/40\n",
            "25/25 [==============================] - 11s 451ms/step - loss: 0.2720 - accuracy: 0.8924 - val_loss: 0.1934 - val_accuracy: 0.9120\n"
          ],
          "name": "stdout"
        }
      ]
    },
    {
      "cell_type": "code",
      "metadata": {
        "id": "Hfta7tG-woTJ",
        "colab_type": "code",
        "colab": {
          "base_uri": "https://localhost:8080/",
          "height": 244
        },
        "outputId": "fe475328-45c5-4224-b997-0b0f8078da77"
      },
      "source": [
        "plt.figure(figsize=(30, 5))\n",
        "plt.subplot(121)\n",
        "plt.plot(history.history['accuracy'])\n",
        "plt.plot(history.history['val_accuracy'])\n",
        "plt.title('Model accuracy')\n",
        "plt.ylabel('accuracy')\n",
        "plt.xlabel('Epoch')\n",
        "plt.legend(['Train', 'Test'], loc='upper left')\n",
        "\n",
        "plt.subplot(122)\n",
        "plt.plot(history.history['loss'])\n",
        "plt.plot(history.history['val_loss'])\n",
        "plt.title('Model loss')\n",
        "plt.ylabel('Loss')\n",
        "plt.xlabel('Epoch')\n",
        "plt.legend(['Train', 'Test'], loc='upper left')\n",
        "plt.show()"
      ],
      "execution_count": 42,
      "outputs": [
        {
          "output_type": "display_data",
          "data": {
            "image/png": "[encoded data removed]",
            "text/plain": [
              "<Figure size 2160x360 with 2 Axes>"
            ]
          },
          "metadata": {
            "tags": [],
            "needs_background": "light"
          }
        }
      ]
    },
    {
      "cell_type": "code",
      "metadata": {
        "id": "MqHc7Dy0sUAt",
        "colab_type": "code",
        "colab": {}
      },
      "source": [
        "test_dataset = Dataset(\n",
        "    ROOT_FOLDER + \"test/img/\", \n",
        "    ROOT_FOLDER + \"test/mask/\", \n",
        "    classes=CLASSES, \n",
        "    augmentation=get_validation_augmentation(),\n",
        "    preprocessing=get_preprocessing(preprocess_input),\n",
        ")\n",
        "\n",
        "test_dataloader = Dataloder(test_dataset, batch_size=1, shuffle=False)"
      ],
      "execution_count": 0,
      "outputs": []
    },
    {
      "cell_type": "code",
      "metadata": {
        "id": "LdRH3f2FwkGH",
        "colab_type": "code",
        "colab": {
          "base_uri": "https://localhost:8080/",
          "height": 51
        },
        "outputId": "917362a2-c3a8-4b10-e244-09037fe157b3"
      },
      "source": [
        "scores = model.evaluate_generator(test_dataloader)\n",
        "\n",
        "print(\"Loss: {:.5}\".format(scores[0]))\n",
        "print(\"Accuracy: {:.5}\".format(scores[1]))"
      ],
      "execution_count": 45,
      "outputs": [
        {
          "output_type": "stream",
          "text": [
            "Loss: 0.29207\n",
            "Accuracy: 0.90326\n"
          ],
          "name": "stdout"
        }
      ]
    }
  ]
}