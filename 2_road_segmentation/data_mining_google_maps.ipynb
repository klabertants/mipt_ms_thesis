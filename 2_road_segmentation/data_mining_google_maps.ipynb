{
  "nbformat": 4,
  "nbformat_minor": 0,
  "metadata": {
    "colab": {
      "name": "data_mining_google_maps.ipynb",
      "provenance": [],
      "collapsed_sections": []
    },
    "kernelspec": {
      "name": "python3",
      "display_name": "Python 3"
    }
  },
  "cells": [
    {
      "cell_type": "code",
      "metadata": {
        "id": "u-rILPlsBlRk",
        "colab_type": "code",
        "colab": {}
      },
      "source": [
        "from io import BytesIO\n",
        "from PIL import Image\n",
        "from urllib import request\n",
        "import matplotlib.pyplot as plt\n",
        "from tqdm import tqdm\n",
        "import re\n",
        "import numpy as np"
      ],
      "execution_count": 0,
      "outputs": []
    },
    {
      "cell_type": "code",
      "metadata": {
        "id": "psq-GBBQBCux",
        "colab_type": "code",
        "colab": {}
      },
      "source": [
        "STYLED_MAP_BASE_URL = 'http://maps.google.com/maps/api/staticmap?style=element:geometry|color:0x212121&style=element:labels|visibility:off&style=element:labels.icon|visibility:off&style=element:labels.text.fill|color:0x757575&style=element:labels.text.stroke|color:0x212121&style=feature:administrative|element:geometry|color:0x757575|visibility:off&style=feature:administrative.land_parcel|visibility:off&style=feature:administrative.neighborhood|visibility:off&style=feature:landscape|color:0x000000|visibility:simplified&style=feature:landscape|element:geometry.fill|color:0x000000&style=feature:poi|color:0x000000|visibility:off&style=feature:poi|element:labels.text.fill|color:0x757575&style=feature:poi.park|visibility:off&style=feature:poi.park|element:geometry|weight:0.5&style=feature:poi.park|element:labels.text.fill|color:0x616161&style=feature:poi.park|element:labels.text.stroke|color:0x1b1b1b&style=feature:road|color:0xfefcff|weight:0.5&style=feature:road|element:geometry.fill|color:0xfefcff&style=feature:road|element:geometry.stroke|color:0xfefcff&style=feature:road|element:labels.icon|visibility:off&style=feature:road|element:labels.text.fill|color:0x8a8a8a&style=feature:road.arterial|element:geometry|color:0x373737&style=feature:road.arterial|element:geometry.fill|color:0xfefcff&style=feature:road.arterial|element:geometry.stroke|color:0xfefcff&style=feature:road.highway|element:geometry|color:0x3c3c3c&style=feature:road.highway|element:geometry.fill|color:0xfefcff&style=feature:road.highway|element:geometry.stroke|color:0xfefcff&style=feature:road.highway.controlled_access|element:geometry|color:0x4e4e4e&style=feature:road.highway.controlled_access|element:geometry.fill|color:0xfefcff&style=feature:road.highway.controlled_access|element:geometry.stroke|color:0xfefcff&style=feature:road.local|element:geometry.fill|color:0xfefcff&style=feature:road.local|element:geometry.stroke|color:0xfefcff&style=feature:road.local|element:labels.text.fill|color:0x616161&style=feature:transit|color:0x000000|visibility:off&style=feature:transit|element:labels.text.fill|color:0x757575&style=feature:water|color:0x000000&style=feature:water|element:geometry|color:0x000000&style=feature:water|element:labels.text.fill|color:0x3d3d3d'\n",
        "SATELLITE_MAP_BASE_URL = 'http://maps.googleapis.com/maps/api/staticmap?maptype=satellite'\n",
        "\n",
        "IMG_W = 512\n",
        "IMG_H = 512\n",
        "IMG_D_H = 544 # Deliberately downloading a little bit higher to crop google labels on the bottom of image\n",
        "\n",
        "ZOOMS = [15, 16]\n",
        "\n",
        "GOOGLE_MAPS_API_KEY = 'YOUR_API_KEY'\n",
        "\n",
        "ROOT_FOLDER = 'drive/My Drive/MIPT_MS_THESIS/'\n",
        "\n",
        "np.random.seed(47)"
      ],
      "execution_count": 0,
      "outputs": []
    },
    {
      "cell_type": "code",
      "metadata": {
        "id": "tkxXgImlWHfZ",
        "colab_type": "code",
        "colab": {}
      },
      "source": [
        "def download_img_and_mask(lat, lon, idx):\n",
        "  postfix = \"&center={},{}&size={}x{}&zoom={}&sensor=false&key=\".format(lat, lon, IMG_W, IMG_D_H, np.random.choice(ZOOMS)) + GOOGLE_MAPS_API_KEY\n",
        "  \n",
        "  img_url = SATELLITE_MAP_BASE_URL + postfix\n",
        "  mask_url = STYLED_MAP_BASE_URL + postfix\n",
        "\n",
        "  for (url, path) in zip([img_url, mask_url], [ROOT_FOLDER + \"styled_road_seg/img\", ROOT_FOLDER + \"styled_road_seg/mask\"]):\n",
        "    buffer = BytesIO(request.urlopen(url).read())\n",
        "    image = Image.open(buffer)\n",
        "    image = image.crop((0, 0, IMG_W, IMG_H))\n",
        "    image.save(path + \"/\" + str(idx) + \".png\")"
      ],
      "execution_count": 0,
      "outputs": []
    },
    {
      "cell_type": "code",
      "metadata": {
        "id": "FCYNgFM2bZbh",
        "colab_type": "code",
        "colab": {
          "base_uri": "https://localhost:8080/",
          "height": 34
        },
        "outputId": "a4337d60-0b2d-454d-b403-e4c8cfd47de4"
      },
      "source": [
        "junctions = open(ROOT_FOLDER + 'styled_road_seg/junctions.txt', 'r') \n",
        "coords = junctions.readlines() \n",
        "  \n",
        "count = 0\n",
        "\n",
        "for line in tqdm(coords): \n",
        "    splitted = re.split(', |\\n', line)\n",
        "    download_img_and_mask(splitted[0], splitted[1], count)\n",
        "    count += 1"
      ],
      "execution_count": 170,
      "outputs": [
        {
          "output_type": "stream",
          "text": [
            "100%|██████████| 101/101 [00:35<00:00,  2.85it/s]\n"
          ],
          "name": "stderr"
        }
      ]
    },
    {
      "cell_type": "code",
      "metadata": {
        "id": "gAZMHPo0kXoo",
        "colab_type": "code",
        "colab": {}
      },
      "source": [
        ""
      ],
      "execution_count": 0,
      "outputs": []
    }
  ]
}